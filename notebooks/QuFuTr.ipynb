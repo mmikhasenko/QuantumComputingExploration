{
 "cells": [
  {
   "cell_type": "code",
   "execution_count": null,
   "metadata": {},
   "outputs": [],
   "source": [
    "using Yao\n",
    "using Plots\n",
    "using LinearAlgebra\n",
    "using FFTW\n",
    "using SymPy"
   ]
  },
  {
   "cell_type": "code",
   "execution_count": null,
   "metadata": {},
   "outputs": [],
   "source": [
    "arg(z) = atan(imag(z),real(z))"
   ]
  },
  {
   "cell_type": "markdown",
   "metadata": {},
   "source": [
    "# Discrete Fourier transformation\n",
    "## Fourier transformation\n",
    "$$\n",
    "\\hat{f}(k) = \\frac{1}{\\sqrt{2\\pi}} \\int_{-\\infty}^{\\infty} \\mathrm{d}x e^{-ixk} f(x)\n",
    "$$\n",
    "\n",
    "## Discrete Fourier transformation\n",
    "$$\n",
    "\\hat{f}(k) = \\frac{1}{\\sqrt{N}} \\sum_{j=0}^{N-1}e^{\\frac{2\\pi i}{N}j k} f(j)\n",
    "$$"
   ]
  },
  {
   "cell_type": "markdown",
   "metadata": {},
   "source": [
    "Let's look at the transformation matrix"
   ]
  },
  {
   "cell_type": "code",
   "execution_count": null,
   "metadata": {},
   "outputs": [],
   "source": [
    "FM(n) = [cis(2π/n*j*k) for j in 0:n-1, k in 0:n-1] ./ sqrt(n) # n is dimention"
   ]
  },
  {
   "cell_type": "markdown",
   "metadata": {},
   "source": [
    "Bits shifts\n",
    "```julia\n",
    "1<<1 == bit\"10\" == 2^1 == 2\n",
    "1<<2 == bit\"100\" == 2^2 == 4\n",
    "1<<3 == bit\"1000\" == 2^3 == 8\n",
    "```"
   ]
  },
  {
   "cell_type": "code",
   "execution_count": null,
   "metadata": {},
   "outputs": [],
   "source": [
    "FM(1<<2)"
   ]
  },
  {
   "cell_type": "markdown",
   "metadata": {},
   "source": [
    "$$\n",
    "\\mathrm{DFT}(2) = \\frac{1}{2}\n",
    "\\begin{pmatrix}\n",
    "1 &  1 &  1 &  1\\\\\n",
    "1 &  e^{i\\pi/2} & e^{i\\pi} & e^{3i\\pi/2}\\\\\n",
    "1 & e^{i\\pi} &  e^{2i\\pi} & e^{6i\\pi/2}\\\\\n",
    "1 & e^{3i\\pi/2} & e^{3i\\pi} &  e^{9i\\pi/2}\n",
    "\\end{pmatrix} = \\frac{1}{2}\n",
    "\\begin{pmatrix}\n",
    "1 &  1 &  1 &  1\\\\\n",
    "1 &  i & -1 & -i\\\\\n",
    "1 & -1 &  1 & -1\\\\\n",
    "1 & -i & -1 &  i\n",
    "\\end{pmatrix}.\n",
    "$$"
   ]
  },
  {
   "cell_type": "markdown",
   "metadata": {},
   "source": [
    "All elements are equal to each other by module. It is actually the matrix of phases"
   ]
  },
  {
   "cell_type": "code",
   "execution_count": null,
   "metadata": {},
   "outputs": [],
   "source": [
    "abs2.(FM(4))"
   ]
  },
  {
   "cell_type": "code",
   "execution_count": null,
   "metadata": {},
   "outputs": [],
   "source": [
    "arg.(FM(4)) .* (180/π)"
   ]
  },
  {
   "cell_type": "markdown",
   "metadata": {},
   "source": [
    "Check if it is unitary"
   ]
  },
  {
   "cell_type": "code",
   "execution_count": null,
   "metadata": {},
   "outputs": [],
   "source": [
    "round.(FM(4)' * FM(4); digits=2)"
   ]
  },
  {
   "cell_type": "markdown",
   "metadata": {},
   "source": [
    "__Unitarity__ $\\Rightarrow$ it can be a quantum transformation\n",
    "\n",
    "__Factorization?__ Can the tranformation be decomposed to sequential action to qubits?\n",
    "\n",
    "(straightforward to prove [see the youtube video](https://www.youtube.com/watch?v=zzUMn3ykey8&ab_channel=AnantVigyan))"
   ]
  },
  {
   "cell_type": "markdown",
   "metadata": {},
   "source": [
    "## Implementation of the QFT\n",
    "There are a few, here is one from [_Yao.jl_](https://tutorials.yaoquantum.org/dev/generated/quick-start/2.qft-phase-estimation/)\n",
    "![figs/qft.png](figs/qft.png)\n",
    "\n",
    "```julia\n",
    "A(i, j) = control(i, j=>shift(2π/(1<<(i-j+1))))\n",
    "B(n, k) = chain(n, j==k ? put(k=>H) : A(j, k) for j in k:n)\n",
    "qft(n) = chain(B(n, k) for k in 1:n)\n",
    "```\n",
    "\n",
    "To understand that we need a few things:\n",
    " - simple rotation (shift gate)\n",
    " - controlled totation (shift gate applied only if controlled gate in 1)\n",
    " - j binary  decomposition\n",
    " $$\n",
    "\\begin{align*}\n",
    "j &= j_{n-1}j_{n}\\dots j_{1} j_{0}\\\\\n",
    "  &= j_{n-1} 2^{n-1} + \\dots + j_{1} 2 + j_{0}\n",
    "\\end{align*}\n",
    "$$"
   ]
  },
  {
   "cell_type": "markdown",
   "metadata": {},
   "source": [
    "### Simple rotation\n",
    "Where $R$ is a $Z$ rotation gate\n",
    "$$\n",
    "R_n = \\begin{pmatrix}\n",
    "1 & 0\\\\\n",
    "0 & e^{\\frac{2\\pi i}{2^n}}\n",
    "\\end{pmatrix}:\n",
    "\\qquad\n",
    "R_2 = \\begin{pmatrix}\n",
    "1 &\\\\\n",
    "& e^{\\frac{\\pi i}{2}}\n",
    "\\end{pmatrix},\\quad\n",
    "R_3 = \\begin{pmatrix}\n",
    "1 &\\\\\n",
    "& e^{\\frac{\\pi i}{4}}\n",
    "\\end{pmatrix}.\\quad\n",
    "\\begin{matrix}\n",
    "0\\\\\n",
    "1\\\\\n",
    "\\end{matrix}\n",
    "$$\n",
    "I.e. zero state is not transformed, the state  \n",
    "$$\n",
    "\\alpha\\left| 0 \\right\\rangle + \\beta\\left| 1 \\right\\rangle \\xrightarrow[]{R}\n",
    "\\alpha\\left| 0 \\right\\rangle + \\beta e^{\\frac{2\\pi i}{2^n}}\\left| 1 \\right\\rangle\n",
    "$$"
   ]
  },
  {
   "cell_type": "markdown",
   "metadata": {},
   "source": [
    "### Controlled rotation\n",
    "(do rotation only when the controlled gate is 1)\n",
    "$$\n",
    "\\text{CZ} \\Rightarrow\n",
    "\\begin{pmatrix}\n",
    "1 & & &\\\\\n",
    " & 1& &\\\\\n",
    " & & 1 &\\\\\n",
    "& & & e^{\\frac{2\\pi i}{2^n}}\n",
    "\\end{pmatrix}\n",
    "\\qquad\n",
    "%\\left[\n",
    "\\begin{matrix}\n",
    "00\\\\\n",
    "01\\\\\n",
    "10\\\\\n",
    "11\n",
    "\\end{matrix}\n",
    "%\\right]\n",
    "$$"
   ]
  },
  {
   "cell_type": "code",
   "execution_count": null,
   "metadata": {},
   "outputs": [],
   "source": [
    "R, = @vars R\n",
    "# \n",
    "# controlled not\n",
    "cnot = [1 0 0 0\n",
    "        0 1 0 0\n",
    "        0 0 0 1\n",
    "        0 0 1 0]\n",
    "# 𝕀 x R\n",
    "tp1xR = [1 0 0 0\n",
    "         0 R 0 0\n",
    "         0 0 1 0\n",
    "         0 0 0 R];\n",
    "# R x 𝕀\n",
    "tpRx1 = [1 0 0 0\n",
    "         0 1 0 0\n",
    "         0 0 R 0\n",
    "         0 0 0 R]\n",
    "#\n",
    "# ---Z----x---------x-----\n",
    "#         |         |\n",
    "# ---Z----C----Z†---C-----\n",
    "# \n",
    "cnot * inv(tp1xR)* cnot * tp1xR * tpRx1"
   ]
  },
  {
   "cell_type": "markdown",
   "metadata": {},
   "source": [
    "### Binary representation\n",
    "$$\n",
    "\\frac{2\\pi i}{N} j \\rightarrow \\frac{2\\pi i}{2^n} (j_{n-1}\\dots j_{1}j_{0})\n",
    "=\n",
    "\\frac{2\\pi i}{2^n} (2^{n-1} j_{n-1} + \\dots 2 j_{1} + j_{0})\n",
    "$$\n",
    "we need rotaitons $\\frac{2\\pi i}{2^{n-k}}j_k$ for every non zero bit $j_k$"
   ]
  },
  {
   "cell_type": "markdown",
   "metadata": {},
   "source": [
    "## QuFuTr"
   ]
  },
  {
   "cell_type": "code",
   "execution_count": null,
   "metadata": {},
   "outputs": [],
   "source": [
    "# from Yao documentation\n",
    "A(i, j) = control(i, j=>shift(2π/(1<<(i-j+1)))) # i is controlled gate, j is to be rotated\n",
    "B(n, k) = chain(n, j==k ? put(k=>H) : A(j, k) for j in k:n) # sequence H R2 R3 ... Rn-1\n",
    "qft(n) = chain(B(n, k) for k in 1:n) # add the chain to every qubit"
   ]
  },
  {
   "cell_type": "code",
   "execution_count": null,
   "metadata": {},
   "outputs": [],
   "source": [
    "# it gives\n",
    "arg.(Matrix(mat(qft(2))))"
   ]
  },
  {
   "cell_type": "code",
   "execution_count": null,
   "metadata": {},
   "outputs": [],
   "source": [
    "# it suppose to be \n",
    "arg.(FM(4))"
   ]
  },
  {
   "cell_type": "code",
   "execution_count": null,
   "metadata": {},
   "outputs": [],
   "source": [
    "A(j, k) = control(j, k=>shift(2π/(1<<(k-j+1))))\n",
    "B(n, k) = chain(n, j==k ? put(k=>H) : A(j, k) for j in k:-1:1)\n",
    "qft(n) = chain(B(n, k) for k in n:-1:1)\n",
    "nqft(n) = chain(n, qft(n), [swap(n,i,n+1-i) for i in 1:div(n,2)]...)"
   ]
  },
  {
   "cell_type": "code",
   "execution_count": null,
   "metadata": {},
   "outputs": [],
   "source": [
    "nqft(3)"
   ]
  },
  {
   "cell_type": "code",
   "execution_count": null,
   "metadata": {},
   "outputs": [],
   "source": [
    "1 # --------x-------x----H--\n",
    "  #         |       |\n",
    "2 # -----x--|----H--R-------\n",
    "  #      |  |\n",
    "3 # --H--R--R---------------"
   ]
  },
  {
   "cell_type": "code",
   "execution_count": null,
   "metadata": {},
   "outputs": [],
   "source": [
    "m = mat(nqft(6));"
   ]
  },
  {
   "cell_type": "code",
   "execution_count": null,
   "metadata": {},
   "outputs": [],
   "source": [
    "phis = arg.(Matrix(m))"
   ]
  },
  {
   "cell_type": "code",
   "execution_count": null,
   "metadata": {},
   "outputs": [],
   "source": [
    "heatmap(phis, c=:balance, clim=(-π,π))"
   ]
  },
  {
   "cell_type": "code",
   "execution_count": null,
   "metadata": {},
   "outputs": [],
   "source": [
    "out = product_state(bit\"001100\") |> nqft(6)"
   ]
  },
  {
   "cell_type": "code",
   "execution_count": null,
   "metadata": {},
   "outputs": [],
   "source": [
    "n_ex = 6\n",
    "p_ex = 4"
   ]
  },
  {
   "cell_type": "code",
   "execution_count": null,
   "metadata": {},
   "outputs": [],
   "source": [
    "st = sum(product_state(n_ex, p_ex*i) for i in 0:(div(2^n_ex-1, p_ex))) |> normalize!\n",
    "bar(probs(st))"
   ]
  },
  {
   "cell_type": "code",
   "execution_count": null,
   "metadata": {},
   "outputs": [],
   "source": [
    "out = st |> copy |> nqft(6)\n",
    "bar(probs(out))"
   ]
  },
  {
   "cell_type": "markdown",
   "metadata": {},
   "source": [
    "### Measurements"
   ]
  },
  {
   "cell_type": "code",
   "execution_count": null,
   "metadata": {
    "scrolled": false
   },
   "outputs": [],
   "source": [
    "histogram(Int.(measure(out, nshots=100)),bins=-0.5:1:(2^n_ex))"
   ]
  },
  {
   "cell_type": "code",
   "execution_count": null,
   "metadata": {},
   "outputs": [],
   "source": []
  }
 ],
 "metadata": {
  "kernelspec": {
   "display_name": "Julia 1.5.0",
   "language": "julia",
   "name": "julia-1.5"
  },
  "language_info": {
   "file_extension": ".jl",
   "mimetype": "application/julia",
   "name": "julia",
   "version": "1.5.0"
  }
 },
 "nbformat": 4,
 "nbformat_minor": 2
}
